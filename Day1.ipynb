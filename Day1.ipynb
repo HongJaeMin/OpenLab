{
 "cells": [
  {
   "cell_type": "code",
   "execution_count": 2,
   "id": "deb9c700",
   "metadata": {
    "collapsed": true
   },
   "outputs": [
    {
     "data": {
      "text/plain": [
       "300"
      ]
     },
     "execution_count": 2,
     "metadata": {},
     "output_type": "execute_result"
    }
   ],
   "source": [
    "100 + 200"
   ]
  },
  {
   "cell_type": "markdown",
   "id": "bd01e360",
   "metadata": {},
   "source": [
    "# 파이썬 데이터 분석 (주석: Markdown)\n",
    "- 변수의 개념과 이해"
   ]
  },
  {
   "cell_type": "code",
   "execution_count": 3,
   "id": "9091952b",
   "metadata": {
    "collapsed": true
   },
   "outputs": [
    {
     "data": {
      "text/plain": [
       "900"
      ]
     },
     "execution_count": 3,
     "metadata": {},
     "output_type": "execute_result"
    }
   ],
   "source": [
    "300 * 3 # 숫자데이터 곱셈"
   ]
  },
  {
   "cell_type": "code",
   "execution_count": 21,
   "id": "a8a6cf62",
   "metadata": {},
   "outputs": [],
   "source": [
    "a = 30\n",
    "b = 3"
   ]
  },
  {
   "cell_type": "code",
   "execution_count": 6,
   "id": "629da239",
   "metadata": {
    "collapsed": true
   },
   "outputs": [
    {
     "data": {
      "text/plain": [
       "30"
      ]
     },
     "execution_count": 6,
     "metadata": {},
     "output_type": "execute_result"
    }
   ],
   "source": [
    "a"
   ]
  },
  {
   "cell_type": "code",
   "execution_count": 7,
   "id": "37edd5a1",
   "metadata": {
    "collapsed": true
   },
   "outputs": [
    {
     "data": {
      "text/plain": [
       "3"
      ]
     },
     "execution_count": 7,
     "metadata": {},
     "output_type": "execute_result"
    }
   ],
   "source": [
    "b"
   ]
  },
  {
   "cell_type": "code",
   "execution_count": 8,
   "id": "d17f7dce",
   "metadata": {
    "collapsed": true
   },
   "outputs": [
    {
     "data": {
      "text/plain": [
       "33"
      ]
     },
     "execution_count": 8,
     "metadata": {},
     "output_type": "execute_result"
    }
   ],
   "source": [
    "a + b # 더하기"
   ]
  },
  {
   "cell_type": "code",
   "execution_count": 10,
   "id": "f8e99a9a",
   "metadata": {
    "collapsed": true
   },
   "outputs": [
    {
     "data": {
      "text/plain": [
       "27"
      ]
     },
     "execution_count": 10,
     "metadata": {},
     "output_type": "execute_result"
    }
   ],
   "source": [
    "a - b # 빼기"
   ]
  },
  {
   "cell_type": "code",
   "execution_count": 12,
   "id": "3aa5600e",
   "metadata": {
    "collapsed": true
   },
   "outputs": [
    {
     "data": {
      "text/plain": [
       "60"
      ]
     },
     "execution_count": 12,
     "metadata": {},
     "output_type": "execute_result"
    }
   ],
   "source": [
    "a * 2 # 곱하기"
   ]
  },
  {
   "cell_type": "code",
   "execution_count": 14,
   "id": "69ccdd71",
   "metadata": {
    "collapsed": true
   },
   "outputs": [
    {
     "data": {
      "text/plain": [
       "15.0"
      ]
     },
     "execution_count": 14,
     "metadata": {},
     "output_type": "execute_result"
    }
   ],
   "source": [
    "a / 2 # 나누기"
   ]
  },
  {
   "cell_type": "code",
   "execution_count": 22,
   "id": "d0310d17",
   "metadata": {
    "collapsed": true
   },
   "outputs": [
    {
     "data": {
      "text/plain": [
       "27000"
      ]
     },
     "execution_count": 22,
     "metadata": {},
     "output_type": "execute_result"
    }
   ],
   "source": [
    "a ** 3 # 30의 세제곱 (**)"
   ]
  },
  {
   "cell_type": "code",
   "execution_count": 23,
   "id": "017b6a26",
   "metadata": {
    "collapsed": true
   },
   "outputs": [
    {
     "data": {
      "text/plain": [
       "15"
      ]
     },
     "execution_count": 23,
     "metadata": {},
     "output_type": "execute_result"
    }
   ],
   "source": [
    "a // 2 # 나눗셈에서의 몫 (//)"
   ]
  },
  {
   "cell_type": "code",
   "execution_count": 25,
   "id": "14c868ee",
   "metadata": {
    "collapsed": true
   },
   "outputs": [
    {
     "data": {
      "text/plain": [
       "0"
      ]
     },
     "execution_count": 25,
     "metadata": {},
     "output_type": "execute_result"
    }
   ],
   "source": [
    "a % 3 # 나눗셈에서의 나머지 (%)"
   ]
  },
  {
   "cell_type": "code",
   "execution_count": 29,
   "id": "2ca5ef4e",
   "metadata": {},
   "outputs": [],
   "source": [
    "# 문자 데이터 (따옴표 또는 쌍따옴표)\n",
    "data1 = '파이썬'"
   ]
  },
  {
   "cell_type": "code",
   "execution_count": 31,
   "id": "fe3af38d",
   "metadata": {
    "collapsed": true
   },
   "outputs": [
    {
     "data": {
      "text/plain": [
       "'파이썬'"
      ]
     },
     "execution_count": 31,
     "metadata": {},
     "output_type": "execute_result"
    }
   ],
   "source": [
    "data1"
   ]
  },
  {
   "cell_type": "code",
   "execution_count": 33,
   "id": "fa7e11da",
   "metadata": {},
   "outputs": [],
   "source": [
    "data2 = 'Python'\n",
    "data3 = 'Data'"
   ]
  },
  {
   "cell_type": "code",
   "execution_count": 36,
   "id": "6dfbf5f4",
   "metadata": {
    "collapsed": true
   },
   "outputs": [
    {
     "data": {
      "text/plain": [
       "'PythonData'"
      ]
     },
     "execution_count": 36,
     "metadata": {},
     "output_type": "execute_result"
    }
   ],
   "source": [
    "data2 + data3 # 문자데이터의 덧셈"
   ]
  },
  {
   "cell_type": "code",
   "execution_count": 45,
   "id": "acf6c00b",
   "metadata": {},
   "outputs": [],
   "source": [
    "data4 = '345'"
   ]
  },
  {
   "cell_type": "code",
   "execution_count": 47,
   "id": "7020f0ce",
   "metadata": {
    "collapsed": true
   },
   "outputs": [
    {
     "data": {
      "text/plain": [
       "str"
      ]
     },
     "execution_count": 47,
     "metadata": {},
     "output_type": "execute_result"
    }
   ],
   "source": [
    "type(data4) # str은 string 으로 "
   ]
  },
  {
   "cell_type": "markdown",
   "id": "34f08ccd",
   "metadata": {},
   "source": [
    "- 데이터 타입 : 연속형(숫자) / 범주형(문자)\n",
    "- 데이터 타입에 따라 분석의 방법이 달라짐.\n",
    " - 연속형(숫자) : int(정수) / float(실수)\n",
    " - 범주형(문자) : str(문자열)"
   ]
  },
  {
   "cell_type": "code",
   "execution_count": 49,
   "id": "3e3ef796",
   "metadata": {
    "collapsed": true
   },
   "outputs": [
    {
     "data": {
      "text/plain": [
       "'PythonPython'"
      ]
     },
     "execution_count": 49,
     "metadata": {},
     "output_type": "execute_result"
    }
   ],
   "source": [
    "data2 * 2"
   ]
  },
  {
   "cell_type": "markdown",
   "id": "8d213cc1",
   "metadata": {},
   "source": [
    "# 데이터 자료형\n",
    "\n",
    "- 프로그래밍 언어에서 2개 이상의 여러가지 데이터를 들고 다닐 때 사용하는 공간\n",
    "- 4가지 자료형 : List / Tuple / Set / Dictionary"
   ]
  },
  {
   "cell_type": "code",
   "execution_count": 51,
   "id": "3cb2eb55",
   "metadata": {
    "collapsed": true
   },
   "outputs": [
    {
     "data": {
      "text/plain": [
       "[10, 20, 30, 50, 5]"
      ]
     },
     "execution_count": 51,
     "metadata": {},
     "output_type": "execute_result"
    }
   ],
   "source": [
    "# List (리스트) : 가장 많이 사용되는 자료형이며, 대괄호[]를 사용한다\n",
    "# 각각의 데이터에 순서가 존재 / 데이터를 추가 또는 삭제 또는 변경이 가능 / 똑같은 데이터를 중복해서 작성\n",
    "data4 = [10, 20, 30, 50, 5]\n",
    "data4"
   ]
  },
  {
   "cell_type": "code",
   "execution_count": 53,
   "id": "8be95b87",
   "metadata": {
    "collapsed": true
   },
   "outputs": [
    {
     "data": {
      "text/plain": [
       "list"
      ]
     },
     "execution_count": 53,
     "metadata": {},
     "output_type": "execute_result"
    }
   ],
   "source": [
    "type(data4)"
   ]
  },
  {
   "cell_type": "code",
   "execution_count": 56,
   "id": "b0df4fb6",
   "metadata": {
    "collapsed": true
   },
   "outputs": [
    {
     "data": {
      "text/plain": [
       "['국어', '수학', '사회', '과학']"
      ]
     },
     "execution_count": 56,
     "metadata": {},
     "output_type": "execute_result"
    }
   ],
   "source": [
    "# List는 특정 위치 데이터를 찾을 수 있다. (indexing)\n",
    "data5 = ['국어', '수학', '사회', '과학']\n",
    "data5"
   ]
  },
  {
   "cell_type": "code",
   "execution_count": 58,
   "id": "a351cdea",
   "metadata": {
    "collapsed": true
   },
   "outputs": [
    {
     "data": {
      "text/plain": [
       "list"
      ]
     },
     "execution_count": 58,
     "metadata": {},
     "output_type": "execute_result"
    }
   ],
   "source": [
    "type(data5)"
   ]
  },
  {
   "cell_type": "code",
   "execution_count": 60,
   "id": "979d93bb",
   "metadata": {
    "collapsed": true
   },
   "outputs": [
    {
     "data": {
      "text/plain": [
       "'국어'"
      ]
     },
     "execution_count": 60,
     "metadata": {},
     "output_type": "execute_result"
    }
   ],
   "source": [
    "data5[0]"
   ]
  },
  {
   "cell_type": "code",
   "execution_count": 62,
   "id": "d6ae772c",
   "metadata": {
    "collapsed": true
   },
   "outputs": [
    {
     "data": {
      "text/plain": [
       "'수학'"
      ]
     },
     "execution_count": 62,
     "metadata": {},
     "output_type": "execute_result"
    }
   ],
   "source": [
    "data5[1]"
   ]
  },
  {
   "cell_type": "code",
   "execution_count": 64,
   "id": "2f8b7d89",
   "metadata": {
    "collapsed": true
   },
   "outputs": [
    {
     "data": {
      "text/plain": [
       "['국어', '수학', '사회', '과학']"
      ]
     },
     "execution_count": 64,
     "metadata": {},
     "output_type": "execute_result"
    }
   ],
   "source": [
    "data5[0:]"
   ]
  },
  {
   "cell_type": "code",
   "execution_count": 68,
   "id": "9b65d74b",
   "metadata": {
    "collapsed": true
   },
   "outputs": [
    {
     "data": {
      "text/plain": [
       "['국어', '수학']"
      ]
     },
     "execution_count": 68,
     "metadata": {},
     "output_type": "execute_result"
    }
   ],
   "source": [
    "data5[0:2]"
   ]
  },
  {
   "cell_type": "code",
   "execution_count": 71,
   "id": "0340d81c",
   "metadata": {},
   "outputs": [],
   "source": [
    "data6 = data5[1:3]"
   ]
  },
  {
   "cell_type": "code",
   "execution_count": 73,
   "id": "c9ff6689",
   "metadata": {
    "collapsed": true
   },
   "outputs": [
    {
     "data": {
      "text/plain": [
       "['수학', '사회']"
      ]
     },
     "execution_count": 73,
     "metadata": {},
     "output_type": "execute_result"
    }
   ],
   "source": [
    "data6"
   ]
  },
  {
   "cell_type": "code",
   "execution_count": 75,
   "id": "1f838ffd",
   "metadata": {
    "collapsed": true
   },
   "outputs": [
    {
     "data": {
      "text/plain": [
       "['국어', '수학', '사회', '과학']"
      ]
     },
     "execution_count": 75,
     "metadata": {},
     "output_type": "execute_result"
    }
   ],
   "source": [
    "# 새로 데이터를 추가하거나 기존 데이터를 삭제 또는 변경\n",
    "data5"
   ]
  },
  {
   "cell_type": "code",
   "execution_count": 84,
   "id": "f334c566",
   "metadata": {},
   "outputs": [],
   "source": [
    "data5.append('영어') # 새로 데이터를 추가하는 함수가 append() 이다."
   ]
  },
  {
   "cell_type": "code",
   "execution_count": 87,
   "id": "8f0065bf",
   "metadata": {
    "collapsed": true
   },
   "outputs": [
    {
     "data": {
      "text/plain": [
       "['국어', '사회', '과학', '영어', '영어', '영어']"
      ]
     },
     "execution_count": 87,
     "metadata": {},
     "output_type": "execute_result"
    }
   ],
   "source": [
    "data5"
   ]
  },
  {
   "cell_type": "code",
   "execution_count": 97,
   "id": "bfa34c52",
   "metadata": {},
   "outputs": [],
   "source": [
    "data5.remove('영어') # 기존 데이터를 삭제하는 함수가 remove() 이다."
   ]
  },
  {
   "cell_type": "code",
   "execution_count": 98,
   "id": "6408c0bd",
   "metadata": {
    "collapsed": true
   },
   "outputs": [
    {
     "data": {
      "text/plain": [
       "['한국사', '한국사', '국어', '사회', '과학', '영어']"
      ]
     },
     "execution_count": 98,
     "metadata": {},
     "output_type": "execute_result"
    }
   ],
   "source": [
    "data5"
   ]
  },
  {
   "cell_type": "code",
   "execution_count": 99,
   "id": "24aac062",
   "metadata": {},
   "outputs": [],
   "source": [
    "data5.insert(0, '한국사')  # 특정 위치에 특정 데이터를 입력하는 함수 insert() 이다."
   ]
  },
  {
   "cell_type": "code",
   "execution_count": 100,
   "id": "b139e17b",
   "metadata": {
    "collapsed": true
   },
   "outputs": [
    {
     "data": {
      "text/plain": [
       "['한국사', '한국사', '한국사', '국어', '사회', '과학', '영어']"
      ]
     },
     "execution_count": 100,
     "metadata": {},
     "output_type": "execute_result"
    }
   ],
   "source": [
    "data5"
   ]
  },
  {
   "cell_type": "code",
   "execution_count": 102,
   "id": "5af9d8fe",
   "metadata": {},
   "outputs": [],
   "source": [
    "data5 = ['국어', '수학', '사회', '과학']"
   ]
  },
  {
   "cell_type": "code",
   "execution_count": 104,
   "id": "12a06cdf",
   "metadata": {
    "collapsed": true
   },
   "outputs": [
    {
     "data": {
      "text/plain": [
       "['국어', '수학', '사회', '과학']"
      ]
     },
     "execution_count": 104,
     "metadata": {},
     "output_type": "execute_result"
    }
   ],
   "source": [
    "data5"
   ]
  },
  {
   "cell_type": "code",
   "execution_count": 106,
   "id": "2284914a",
   "metadata": {},
   "outputs": [],
   "source": [
    "data5[2] = '물리' # 특정 위치에 있는 데이터를 다른 데이터를 변경"
   ]
  },
  {
   "cell_type": "code",
   "execution_count": 110,
   "id": "85fcca0b",
   "metadata": {
    "collapsed": true
   },
   "outputs": [
    {
     "data": {
      "text/plain": [
       "['국어', '수학', '물리', '과학']"
      ]
     },
     "execution_count": 110,
     "metadata": {},
     "output_type": "execute_result"
    }
   ],
   "source": [
    "data5"
   ]
  },
  {
   "cell_type": "code",
   "execution_count": 112,
   "id": "6e0bbd76",
   "metadata": {
    "collapsed": true
   },
   "outputs": [
    {
     "data": {
      "text/plain": [
       "(100, 200, 300)"
      ]
     },
     "execution_count": 112,
     "metadata": {},
     "output_type": "execute_result"
    }
   ],
   "source": [
    "# Tuple (튜플)\n",
    "# 데이터를 추가/삭제/변경이 불가능\n",
    "data6 = (100, 200, 300)\n",
    "data6"
   ]
  },
  {
   "cell_type": "code",
   "execution_count": 114,
   "id": "950e9252",
   "metadata": {
    "collapsed": true
   },
   "outputs": [
    {
     "data": {
      "text/plain": [
       "tuple"
      ]
     },
     "execution_count": 114,
     "metadata": {},
     "output_type": "execute_result"
    }
   ],
   "source": [
    "type(data6)"
   ]
  },
  {
   "cell_type": "code",
   "execution_count": 115,
   "id": "3bdc95f6",
   "metadata": {},
   "outputs": [
    {
     "ename": "AttributeError",
     "evalue": "'tuple' object has no attribute 'append'",
     "output_type": "error",
     "traceback": [
      "\u001b[1;31m---------------------------------------------------------------------------\u001b[0m",
      "\u001b[1;31mAttributeError\u001b[0m                            Traceback (most recent call last)",
      "\u001b[1;32m<ipython-input-115-de84e8abc952>\u001b[0m in \u001b[0;36m<module>\u001b[1;34m\u001b[0m\n\u001b[1;32m----> 1\u001b[1;33m \u001b[0mdata6\u001b[0m\u001b[1;33m.\u001b[0m\u001b[0mappend\u001b[0m\u001b[1;33m(\u001b[0m\u001b[1;36m700\u001b[0m\u001b[1;33m)\u001b[0m\u001b[1;33m\u001b[0m\u001b[1;33m\u001b[0m\u001b[0m\n\u001b[0m",
      "\u001b[1;31mAttributeError\u001b[0m: 'tuple' object has no attribute 'append'"
     ]
    }
   ],
   "source": [
    "data6.append(700)"
   ]
  },
  {
   "cell_type": "code",
   "execution_count": 117,
   "id": "7ae85ff1",
   "metadata": {
    "collapsed": true
   },
   "outputs": [
    {
     "data": {
      "text/plain": [
       "100"
      ]
     },
     "execution_count": 117,
     "metadata": {},
     "output_type": "execute_result"
    }
   ],
   "source": [
    "data6[0]"
   ]
  },
  {
   "cell_type": "code",
   "execution_count": 119,
   "id": "3950eba2",
   "metadata": {
    "collapsed": true
   },
   "outputs": [
    {
     "data": {
      "text/plain": [
       "{3, 10, 50, 100}"
      ]
     },
     "execution_count": 119,
     "metadata": {},
     "output_type": "execute_result"
    }
   ],
   "source": [
    "# set (셋, 집합)\n",
    "# 수학에서 집합\n",
    "# 순서가 없고 / 중복이 허용 안 됨\n",
    "data7 = {10, 50, 3, 100, 100, 100}\n",
    "data7"
   ]
  },
  {
   "cell_type": "code",
   "execution_count": 121,
   "id": "afbc51e5",
   "metadata": {},
   "outputs": [
    {
     "ename": "TypeError",
     "evalue": "'set' object is not subscriptable",
     "output_type": "error",
     "traceback": [
      "\u001b[1;31m---------------------------------------------------------------------------\u001b[0m",
      "\u001b[1;31mTypeError\u001b[0m                                 Traceback (most recent call last)",
      "\u001b[1;32m<ipython-input-121-252ecad3282a>\u001b[0m in \u001b[0;36m<module>\u001b[1;34m\u001b[0m\n\u001b[1;32m----> 1\u001b[1;33m \u001b[0mdata7\u001b[0m\u001b[1;33m[\u001b[0m\u001b[1;36m0\u001b[0m\u001b[1;33m]\u001b[0m \u001b[1;31m# 순서가 없는 set 구조\u001b[0m\u001b[1;33m\u001b[0m\u001b[1;33m\u001b[0m\u001b[0m\n\u001b[0m",
      "\u001b[1;31mTypeError\u001b[0m: 'set' object is not subscriptable"
     ]
    }
   ],
   "source": [
    "data7[0] # 순서가 없는 set 구조"
   ]
  },
  {
   "cell_type": "code",
   "execution_count": 123,
   "id": "1aeac6fa",
   "metadata": {},
   "outputs": [],
   "source": [
    "data8 = {10,20,30,40,50}\n",
    "data9 = {40, 50, 60, 70, 80}"
   ]
  },
  {
   "cell_type": "code",
   "execution_count": 125,
   "id": "61fdad66",
   "metadata": {
    "collapsed": true
   },
   "outputs": [
    {
     "data": {
      "text/plain": [
       "{40, 50}"
      ]
     },
     "execution_count": 125,
     "metadata": {},
     "output_type": "execute_result"
    }
   ],
   "source": [
    "data8 & data9 # 교집합 연삭"
   ]
  },
  {
   "cell_type": "code",
   "execution_count": 127,
   "id": "a75089ac",
   "metadata": {
    "collapsed": true
   },
   "outputs": [
    {
     "data": {
      "text/plain": [
       "{10, 20, 30, 40, 50, 60, 70, 80}"
      ]
     },
     "execution_count": 127,
     "metadata": {},
     "output_type": "execute_result"
    }
   ],
   "source": [
    "data8 | data9 # 함집합 연산"
   ]
  },
  {
   "cell_type": "code",
   "execution_count": 129,
   "id": "c11e4f5d",
   "metadata": {
    "collapsed": true
   },
   "outputs": [
    {
     "data": {
      "text/plain": [
       "{60, 70, 80}"
      ]
     },
     "execution_count": 129,
     "metadata": {},
     "output_type": "execute_result"
    }
   ],
   "source": [
    "data9 - data8 # 차집합 연산"
   ]
  },
  {
   "cell_type": "code",
   "execution_count": 133,
   "id": "fe2ac232",
   "metadata": {
    "collapsed": true
   },
   "outputs": [
    {
     "data": {
      "text/plain": [
       "{10, 20, 30, 60, 70, 80}"
      ]
     },
     "execution_count": 133,
     "metadata": {},
     "output_type": "execute_result"
    }
   ],
   "source": [
    "data8 ^ data9 # 대상차집합 (교집합을 제외한 나머지) "
   ]
  },
  {
   "cell_type": "code",
   "execution_count": 135,
   "id": "95481a4e",
   "metadata": {
    "collapsed": true
   },
   "outputs": [
    {
     "data": {
      "text/plain": [
       "{'이름': '홍길동', '나이': 29, '거주지': '서울'}"
      ]
     },
     "execution_count": 135,
     "metadata": {},
     "output_type": "execute_result"
    }
   ],
   "source": [
    "# Dictionary (딕셔너리, 사전)\n",
    "# Key - Value Pair (키-값 쌍)\n",
    "data10 = {'이름': '홍길동' , '나이': 29, '거주지': '서울'}\n",
    "data10"
   ]
  },
  {
   "cell_type": "code",
   "execution_count": 137,
   "id": "94ca945b",
   "metadata": {
    "collapsed": true
   },
   "outputs": [
    {
     "data": {
      "text/plain": [
       "dict"
      ]
     },
     "execution_count": 137,
     "metadata": {},
     "output_type": "execute_result"
    }
   ],
   "source": [
    "type(data10)"
   ]
  },
  {
   "cell_type": "code",
   "execution_count": 139,
   "id": "a6009a2b",
   "metadata": {
    "collapsed": true
   },
   "outputs": [
    {
     "data": {
      "text/plain": [
       "'홍길동'"
      ]
     },
     "execution_count": 139,
     "metadata": {},
     "output_type": "execute_result"
    }
   ],
   "source": [
    "data10['이름']"
   ]
  },
  {
   "cell_type": "code",
   "execution_count": 141,
   "id": "5734f6ed",
   "metadata": {
    "collapsed": true
   },
   "outputs": [
    {
     "data": {
      "text/plain": [
       "'서울'"
      ]
     },
     "execution_count": 141,
     "metadata": {},
     "output_type": "execute_result"
    }
   ],
   "source": [
    "data10['거주지']"
   ]
  },
  {
   "cell_type": "markdown",
   "id": "d7bbad37",
   "metadata": {},
   "source": [
    "# 구문 (Statement)\n",
    "\n",
    "- 조건문 (if) : 특정 조건에 따라 코드를 수행\n",
    "- 반복분 (for/while) : 특정 범위에 따라 반복해서 코드를 수행"
   ]
  },
  {
   "cell_type": "code",
   "execution_count": 143,
   "id": "0aac9950",
   "metadata": {},
   "outputs": [
    {
     "name": "stdout",
     "output_type": "stream",
     "text": [
      "data11은 20보다 크다\n"
     ]
    }
   ],
   "source": [
    "data11 = 40\n",
    "\n",
    "if data11 > 20: # 비교구문 / data11이 20보다 크다면, 아래 종속문장을 수행\n",
    "    print('data11은 20보다 크다')\n",
    "else:           # 위의 조건이 맞지 않는다면, 아래 종속 문장을 수행\n",
    "    print('data11은 20보다 작다')\n",
    "\n",
    "# 들여쓰기 : 공백(space bar, tab)을 이용해, 문장의 종속관계를 표현하는 방법 "
   ]
  },
  {
   "cell_type": "code",
   "execution_count": 155,
   "id": "0475cc7c",
   "metadata": {},
   "outputs": [],
   "source": [
    "# 비교구문\n",
    "# True / False -> 논리형 (bool)\n",
    "data12 = 50"
   ]
  },
  {
   "cell_type": "code",
   "execution_count": 156,
   "id": "f1c33495",
   "metadata": {
    "collapsed": true
   },
   "outputs": [
    {
     "data": {
      "text/plain": [
       "True"
      ]
     },
     "execution_count": 156,
     "metadata": {},
     "output_type": "execute_result"
    }
   ],
   "source": [
    "data12 >= 30 # 크거나 같은지 확인"
   ]
  },
  {
   "cell_type": "code",
   "execution_count": 157,
   "id": "f73e296b",
   "metadata": {
    "collapsed": true
   },
   "outputs": [
    {
     "data": {
      "text/plain": [
       "False"
      ]
     },
     "execution_count": 157,
     "metadata": {},
     "output_type": "execute_result"
    }
   ],
   "source": [
    "data12 <= 5 # 작거나 같은지 확인"
   ]
  },
  {
   "cell_type": "code",
   "execution_count": 158,
   "id": "6b25e811",
   "metadata": {
    "collapsed": true
   },
   "outputs": [
    {
     "data": {
      "text/plain": [
       "True"
      ]
     },
     "execution_count": 158,
     "metadata": {},
     "output_type": "execute_result"
    }
   ],
   "source": [
    "data12 == 50 # 두 값이 서로 같은지 확인"
   ]
  },
  {
   "cell_type": "code",
   "execution_count": 159,
   "id": "f580f446",
   "metadata": {
    "collapsed": true
   },
   "outputs": [
    {
     "data": {
      "text/plain": [
       "False"
      ]
     },
     "execution_count": 159,
     "metadata": {},
     "output_type": "execute_result"
    }
   ],
   "source": [
    "data12 == 20 # 두 값이 서로 같은지 확인"
   ]
  },
  {
   "cell_type": "code",
   "execution_count": 160,
   "id": "6cc2786d",
   "metadata": {
    "collapsed": true
   },
   "outputs": [
    {
     "data": {
      "text/plain": [
       "False"
      ]
     },
     "execution_count": 160,
     "metadata": {},
     "output_type": "execute_result"
    }
   ],
   "source": [
    "data12 != 50 # 두 값이 서로 다른지 확인 (not equal)"
   ]
  },
  {
   "cell_type": "code",
   "execution_count": 164,
   "id": "4e0846d3",
   "metadata": {
    "collapsed": true
   },
   "outputs": [
    {
     "name": "stdout",
     "output_type": "stream",
     "text": [
      "C\n"
     ]
    }
   ],
   "source": [
    "# 여러가지 조건을 걸어, 프로그램을 수행 (else if = elif)\n",
    "score_data = 79\n",
    "\n",
    "if score_data >= 90:\n",
    "    print('A')\n",
    "elif score_data >= 80:\n",
    "    print('B')\n",
    "elif score_data >= 70:\n",
    "    print('C')\n",
    "elif score_data >= 60:\n",
    "    print('D')\n",
    "else:\n",
    "    print('F')"
   ]
  },
  {
   "cell_type": "code",
   "execution_count": 166,
   "id": "60b413db",
   "metadata": {
    "collapsed": true
   },
   "outputs": [
    {
     "name": "stdout",
     "output_type": "stream",
     "text": [
      "1\n",
      "2\n",
      "3\n",
      "4\n",
      "5\n",
      "6\n",
      "7\n",
      "8\n",
      "9\n"
     ]
    }
   ],
   "source": [
    "# for 반복문 : 특정 설정된 범위만큼 프로그램이 수행\n",
    "# range(n, m) : 특정 범위 내 정수를 하나 씩 출력하는 함수\n",
    "#               n번부터 m번 이전까지\n",
    "\n",
    "for i in range(1, 10): # 1부터 9까지 데이터를 가져와서 i 값에 선언\n",
    "    print(i)"
   ]
  },
  {
   "cell_type": "code",
   "execution_count": 169,
   "id": "ae76a3b9",
   "metadata": {
    "collapsed": true
   },
   "outputs": [
    {
     "name": "stdout",
     "output_type": "stream",
     "text": [
      "10\n",
      "50\n",
      "100\n"
     ]
    }
   ],
   "source": [
    "for i in [10, 50, 100]: # 리스트 내 값을 순서대로 i에 선언하면서\n",
    "    print(i)            # 아래 종속된 문장이 반복되어 수행"
   ]
  },
  {
   "cell_type": "code",
   "execution_count": 170,
   "id": "ecc123ec",
   "metadata": {
    "collapsed": true
   },
   "outputs": [
    {
     "name": "stdout",
     "output_type": "stream",
     "text": [
      "1\n",
      "3\n",
      "6\n",
      "10\n",
      "15\n",
      "21\n",
      "28\n",
      "36\n",
      "45\n",
      "55\n"
     ]
    }
   ],
   "source": [
    "sum_data = 0\n",
    "for i in range(1, 11):\n",
    "    sum_data = sum_data + i\n",
    "    print(sum_data)"
   ]
  },
  {
   "cell_type": "code",
   "execution_count": 176,
   "id": "1c85a1ee",
   "metadata": {
    "collapsed": true
   },
   "outputs": [
    {
     "ename": "TypeError",
     "evalue": "'type' object is not subscriptable",
     "output_type": "error",
     "traceback": [
      "\u001b[1;31m---------------------------------------------------------------------------\u001b[0m",
      "\u001b[1;31mTypeError\u001b[0m                                 Traceback (most recent call last)",
      "\u001b[1;32m<ipython-input-176-9bc1bc9d8f9b>\u001b[0m in \u001b[0;36m<module>\u001b[1;34m\u001b[0m\n\u001b[0;32m      1\u001b[0m \u001b[0msum_data\u001b[0m \u001b[1;33m=\u001b[0m \u001b[1;36m0\u001b[0m\u001b[1;33m\u001b[0m\u001b[1;33m\u001b[0m\u001b[0m\n\u001b[1;32m----> 2\u001b[1;33m \u001b[1;32mfor\u001b[0m \u001b[0mi\u001b[0m \u001b[1;32min\u001b[0m \u001b[0mrange\u001b[0m\u001b[1;33m[\u001b[0m\u001b[1;36m100\u001b[0m\u001b[1;33m,\u001b[0m \u001b[1;36m200\u001b[0m\u001b[1;33m,\u001b[0m \u001b[1;36m300\u001b[0m\u001b[1;33m]\u001b[0m\u001b[1;33m:\u001b[0m\u001b[1;33m\u001b[0m\u001b[1;33m\u001b[0m\u001b[0m\n\u001b[0m\u001b[0;32m      3\u001b[0m     \u001b[0msum_data\u001b[0m \u001b[1;33m=\u001b[0m \u001b[0msum_data\u001b[0m \u001b[1;33m+\u001b[0m \u001b[0mi\u001b[0m\u001b[1;33m\u001b[0m\u001b[1;33m\u001b[0m\u001b[0m\n\u001b[0;32m      4\u001b[0m     \u001b[0mprint\u001b[0m\u001b[1;33m(\u001b[0m\u001b[0msum_data\u001b[0m\u001b[1;33m)\u001b[0m\u001b[1;33m\u001b[0m\u001b[1;33m\u001b[0m\u001b[0m\n",
      "\u001b[1;31mTypeError\u001b[0m: 'type' object is not subscriptable"
     ]
    }
   ],
   "source": [
    "sum_data = 0\n",
    "for i in range[100, 200, 300]:\n",
    "    sum_data = sum_data + i\n",
    "    print(sum_data)"
   ]
  },
  {
   "cell_type": "code",
   "execution_count": 174,
   "id": "741856f7",
   "metadata": {
    "collapsed": true
   },
   "outputs": [
    {
     "data": {
      "text/plain": [
       "600"
      ]
     },
     "execution_count": 174,
     "metadata": {},
     "output_type": "execute_result"
    }
   ],
   "source": [
    "sum([100,200,300])"
   ]
  },
  {
   "cell_type": "code",
   "execution_count": null,
   "id": "92699e06",
   "metadata": {},
   "outputs": [],
   "source": [
    "# 함수일 땐 함수 뒤에 function() 소괄호 붙음\n",
    "\n",
    "# 리스트 형태로 데이터를 묶을 때 [] 대괄호 붙음\n",
    "# data = []\n",
    "# data[]"
   ]
  },
  {
   "cell_type": "markdown",
   "id": "064fb282",
   "metadata": {},
   "source": [
    "# 라이브러리\n",
    "\n",
    "- 특정 목적을 수행하는 함수들의 집합"
   ]
  },
  {
   "cell_type": "code",
   "execution_count": 177,
   "id": "9ad852fb",
   "metadata": {},
   "outputs": [],
   "source": [
    "import pandas as pd \n",
    "# 함수를 사용하기 위해 pandas 라이브러리를 불러온 뒤, pd 약어오 사용\n",
    "# pandas (panel + dataset) :\n",
    "# 정형데이터(excel, csv, sql, ...)를 처리하고 분석할 때 사용"
   ]
  },
  {
   "cell_type": "code",
   "execution_count": 179,
   "id": "6200ffd9",
   "metadata": {},
   "outputs": [],
   "source": [
    "df1 = pd.read_csv('Data02.csv')"
   ]
  },
  {
   "cell_type": "code",
   "execution_count": 180,
   "id": "c1b99bda",
   "metadata": {},
   "outputs": [
    {
     "data": {
      "text/html": [
       "<div>\n",
       "<style scoped>\n",
       "    .dataframe tbody tr th:only-of-type {\n",
       "        vertical-align: middle;\n",
       "    }\n",
       "\n",
       "    .dataframe tbody tr th {\n",
       "        vertical-align: top;\n",
       "    }\n",
       "\n",
       "    .dataframe thead th {\n",
       "        text-align: right;\n",
       "    }\n",
       "</style>\n",
       "<table border=\"1\" class=\"dataframe\">\n",
       "  <thead>\n",
       "    <tr style=\"text-align: right;\">\n",
       "      <th></th>\n",
       "      <th>결제수단</th>\n",
       "      <th>배송번호</th>\n",
       "      <th>배송시작일</th>\n",
       "      <th>배송완료일</th>\n",
       "      <th>상품구매금액</th>\n",
       "      <th>상품번호</th>\n",
       "      <th>수량</th>\n",
       "      <th>주문경로</th>\n",
       "      <th>주문일</th>\n",
       "    </tr>\n",
       "  </thead>\n",
       "  <tbody>\n",
       "    <tr>\n",
       "      <th>0</th>\n",
       "      <td>무통장입금</td>\n",
       "      <td>D-20181227-0000648-00</td>\n",
       "      <td>2019-01-07 오전 8:56</td>\n",
       "      <td>2019-01-11 오전 5:32</td>\n",
       "      <td>71450</td>\n",
       "      <td>1077.0</td>\n",
       "      <td>1</td>\n",
       "      <td>PC쇼핑몰</td>\n",
       "      <td>20181227</td>\n",
       "    </tr>\n",
       "    <tr>\n",
       "      <th>1</th>\n",
       "      <td>무통장입금</td>\n",
       "      <td>D-20181229-0000119-00</td>\n",
       "      <td>2019-01-03 오전 9:30</td>\n",
       "      <td>2019-01-07 오전 5:32</td>\n",
       "      <td>141240</td>\n",
       "      <td>42.0</td>\n",
       "      <td>2</td>\n",
       "      <td>모바일웹</td>\n",
       "      <td>20181229</td>\n",
       "    </tr>\n",
       "    <tr>\n",
       "      <th>2</th>\n",
       "      <td>무통장입금</td>\n",
       "      <td>D-20181230-0000100-00</td>\n",
       "      <td>2019-01-03 오전 9:30</td>\n",
       "      <td>2019-01-07 오전 5:32</td>\n",
       "      <td>13910</td>\n",
       "      <td>1271.0</td>\n",
       "      <td>1</td>\n",
       "      <td>모바일웹</td>\n",
       "      <td>20181230</td>\n",
       "    </tr>\n",
       "    <tr>\n",
       "      <th>3</th>\n",
       "      <td>무통장입금</td>\n",
       "      <td>D-20181231-0000087-00</td>\n",
       "      <td>2019-01-03 오전 9:30</td>\n",
       "      <td>2019-01-07 오전 5:32</td>\n",
       "      <td>81600</td>\n",
       "      <td>1085.0</td>\n",
       "      <td>1</td>\n",
       "      <td>모바일웹</td>\n",
       "      <td>20181231</td>\n",
       "    </tr>\n",
       "    <tr>\n",
       "      <th>4</th>\n",
       "      <td>무통장입금</td>\n",
       "      <td>D-20181231-0000108-00</td>\n",
       "      <td>2019-01-07 오전 8:56</td>\n",
       "      <td>2019-01-11 오전 5:32</td>\n",
       "      <td>94710</td>\n",
       "      <td>1106.0</td>\n",
       "      <td>1</td>\n",
       "      <td>모바일웹</td>\n",
       "      <td>20181231</td>\n",
       "    </tr>\n",
       "    <tr>\n",
       "      <th>...</th>\n",
       "      <td>...</td>\n",
       "      <td>...</td>\n",
       "      <td>...</td>\n",
       "      <td>...</td>\n",
       "      <td>...</td>\n",
       "      <td>...</td>\n",
       "      <td>...</td>\n",
       "      <td>...</td>\n",
       "      <td>...</td>\n",
       "    </tr>\n",
       "    <tr>\n",
       "      <th>46744</th>\n",
       "      <td>카드</td>\n",
       "      <td>D-20171229-0000036-00</td>\n",
       "      <td>2017-12-29 오후 4:32</td>\n",
       "      <td>2018-01-02 오전 5:31</td>\n",
       "      <td>52800</td>\n",
       "      <td>445.0</td>\n",
       "      <td>1</td>\n",
       "      <td>모바일웹</td>\n",
       "      <td>20171229</td>\n",
       "    </tr>\n",
       "    <tr>\n",
       "      <th>46745</th>\n",
       "      <td>카드</td>\n",
       "      <td>D-20171229-0000043-00</td>\n",
       "      <td>2018-01-03 오전 9:45</td>\n",
       "      <td>2018-01-07 오전 5:38</td>\n",
       "      <td>112200</td>\n",
       "      <td>172.0</td>\n",
       "      <td>2</td>\n",
       "      <td>모바일웹</td>\n",
       "      <td>20171229</td>\n",
       "    </tr>\n",
       "    <tr>\n",
       "      <th>46746</th>\n",
       "      <td>카드</td>\n",
       "      <td>D-20171230-0000022-01</td>\n",
       "      <td>2018-01-02 오후 7:06</td>\n",
       "      <td>2018-01-11 오전 2:46</td>\n",
       "      <td>36000</td>\n",
       "      <td>140.0</td>\n",
       "      <td>1</td>\n",
       "      <td>네이버 페이</td>\n",
       "      <td>20171230</td>\n",
       "    </tr>\n",
       "    <tr>\n",
       "      <th>46747</th>\n",
       "      <td>카드</td>\n",
       "      <td>D-20171231-0000017-01</td>\n",
       "      <td>2018-01-03 오후 2:00</td>\n",
       "      <td>2018-01-06 오후 6:06</td>\n",
       "      <td>73460</td>\n",
       "      <td>184.0</td>\n",
       "      <td>1</td>\n",
       "      <td>네이버 페이</td>\n",
       "      <td>20171231</td>\n",
       "    </tr>\n",
       "    <tr>\n",
       "      <th>46748</th>\n",
       "      <td>카드</td>\n",
       "      <td>D-20171231-0000026-00</td>\n",
       "      <td>2018-01-03 오후 12:43</td>\n",
       "      <td>2018-01-07 오전 5:38</td>\n",
       "      <td>81620</td>\n",
       "      <td>479.0</td>\n",
       "      <td>1</td>\n",
       "      <td>모바일웹</td>\n",
       "      <td>20171231</td>\n",
       "    </tr>\n",
       "  </tbody>\n",
       "</table>\n",
       "<p>46749 rows × 9 columns</p>\n",
       "</div>"
      ],
      "text/plain": [
       "        결제수단                   배송번호                배송시작일               배송완료일  \\\n",
       "0      무통장입금  D-20181227-0000648-00   2019-01-07 오전 8:56  2019-01-11 오전 5:32   \n",
       "1      무통장입금  D-20181229-0000119-00   2019-01-03 오전 9:30  2019-01-07 오전 5:32   \n",
       "2      무통장입금  D-20181230-0000100-00   2019-01-03 오전 9:30  2019-01-07 오전 5:32   \n",
       "3      무통장입금  D-20181231-0000087-00   2019-01-03 오전 9:30  2019-01-07 오전 5:32   \n",
       "4      무통장입금  D-20181231-0000108-00   2019-01-07 오전 8:56  2019-01-11 오전 5:32   \n",
       "...      ...                    ...                  ...                 ...   \n",
       "46744     카드  D-20171229-0000036-00   2017-12-29 오후 4:32  2018-01-02 오전 5:31   \n",
       "46745     카드  D-20171229-0000043-00   2018-01-03 오전 9:45  2018-01-07 오전 5:38   \n",
       "46746     카드  D-20171230-0000022-01   2018-01-02 오후 7:06  2018-01-11 오전 2:46   \n",
       "46747     카드  D-20171231-0000017-01   2018-01-03 오후 2:00  2018-01-06 오후 6:06   \n",
       "46748     카드  D-20171231-0000026-00  2018-01-03 오후 12:43  2018-01-07 오전 5:38   \n",
       "\n",
       "       상품구매금액    상품번호  수량    주문경로       주문일  \n",
       "0       71450  1077.0   1   PC쇼핑몰  20181227  \n",
       "1      141240    42.0   2    모바일웹  20181229  \n",
       "2       13910  1271.0   1    모바일웹  20181230  \n",
       "3       81600  1085.0   1    모바일웹  20181231  \n",
       "4       94710  1106.0   1    모바일웹  20181231  \n",
       "...       ...     ...  ..     ...       ...  \n",
       "46744   52800   445.0   1    모바일웹  20171229  \n",
       "46745  112200   172.0   2    모바일웹  20171229  \n",
       "46746   36000   140.0   1  네이버 페이  20171230  \n",
       "46747   73460   184.0   1  네이버 페이  20171231  \n",
       "46748   81620   479.0   1    모바일웹  20171231  \n",
       "\n",
       "[46749 rows x 9 columns]"
      ]
     },
     "execution_count": 180,
     "metadata": {},
     "output_type": "execute_result"
    }
   ],
   "source": [
    "df1"
   ]
  },
  {
   "cell_type": "code",
   "execution_count": 181,
   "id": "098f96f2",
   "metadata": {},
   "outputs": [
    {
     "data": {
      "text/html": [
       "<div>\n",
       "<style scoped>\n",
       "    .dataframe tbody tr th:only-of-type {\n",
       "        vertical-align: middle;\n",
       "    }\n",
       "\n",
       "    .dataframe tbody tr th {\n",
       "        vertical-align: top;\n",
       "    }\n",
       "\n",
       "    .dataframe thead th {\n",
       "        text-align: right;\n",
       "    }\n",
       "</style>\n",
       "<table border=\"1\" class=\"dataframe\">\n",
       "  <thead>\n",
       "    <tr style=\"text-align: right;\">\n",
       "      <th></th>\n",
       "      <th>상품구매금액</th>\n",
       "    </tr>\n",
       "    <tr>\n",
       "      <th>주문경로</th>\n",
       "      <th></th>\n",
       "    </tr>\n",
       "  </thead>\n",
       "  <tbody>\n",
       "    <tr>\n",
       "      <th>PC쇼핑몰</th>\n",
       "      <td>68365.458844</td>\n",
       "    </tr>\n",
       "    <tr>\n",
       "      <th>네이버 페이</th>\n",
       "      <td>82433.872374</td>\n",
       "    </tr>\n",
       "    <tr>\n",
       "      <th>모바일웹</th>\n",
       "      <td>68979.561815</td>\n",
       "    </tr>\n",
       "  </tbody>\n",
       "</table>\n",
       "</div>"
      ],
      "text/plain": [
       "              상품구매금액\n",
       "주문경로                \n",
       "PC쇼핑몰   68365.458844\n",
       "네이버 페이  82433.872374\n",
       "모바일웹    68979.561815"
      ]
     },
     "execution_count": 181,
     "metadata": {},
     "output_type": "execute_result"
    }
   ],
   "source": [
    "df1.pivot_table(index='주문경로', values='상품구매금액') # 평균"
   ]
  }
 ],
 "metadata": {
  "kernelspec": {
   "display_name": "Python 3",
   "language": "python",
   "name": "python3"
  },
  "language_info": {
   "codemirror_mode": {
    "name": "ipython",
    "version": 3
   },
   "file_extension": ".py",
   "mimetype": "text/x-python",
   "name": "python",
   "nbconvert_exporter": "python",
   "pygments_lexer": "ipython3",
   "version": "3.8.8"
  }
 },
 "nbformat": 4,
 "nbformat_minor": 5
}
