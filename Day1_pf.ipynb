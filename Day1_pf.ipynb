{
 "cells": [
  {
   "cell_type": "code",
   "execution_count": 1,
   "id": "ce65b377",
   "metadata": {
    "scrolled": true
   },
   "outputs": [
    {
     "data": {
      "text/plain": [
       "300"
      ]
     },
     "execution_count": 1,
     "metadata": {},
     "output_type": "execute_result"
    }
   ],
   "source": [
    "100 + 200"
   ]
  },
  {
   "cell_type": "markdown",
   "id": "f8ad7741",
   "metadata": {},
   "source": [
    "# 파이썬 데이터 분석 (주석)\n",
    "\n",
    "- 변수의 개념과 이해 \n",
    "- 변수 : 데이터를 들고다닐 수 있는 공간 (메모리)\n",
    "- 변수를 선언한다 : 등호(=)기호를 기준으로 오른쪽의 데이터를 왼쪽에 단어로 표현 "
   ]
  },
  {
   "cell_type": "code",
   "execution_count": 2,
   "id": "0ae0635b",
   "metadata": {},
   "outputs": [
    {
     "data": {
      "text/plain": [
       "900"
      ]
     },
     "execution_count": 2,
     "metadata": {},
     "output_type": "execute_result"
    }
   ],
   "source": [
    "300 * 3  # 숫자데이터 곱셈 "
   ]
  },
  {
   "cell_type": "code",
   "execution_count": 3,
   "id": "e8e7fa61",
   "metadata": {},
   "outputs": [],
   "source": [
    "a = 30 # 30이라는 값을 a 이름의 변수로 선언 \n",
    "b = 3 "
   ]
  },
  {
   "cell_type": "code",
   "execution_count": 4,
   "id": "7374b1b2",
   "metadata": {
    "scrolled": true
   },
   "outputs": [
    {
     "data": {
      "text/plain": [
       "30"
      ]
     },
     "execution_count": 4,
     "metadata": {},
     "output_type": "execute_result"
    }
   ],
   "source": [
    "a"
   ]
  },
  {
   "cell_type": "code",
   "execution_count": 5,
   "id": "c21f25df",
   "metadata": {},
   "outputs": [
    {
     "data": {
      "text/plain": [
       "33"
      ]
     },
     "execution_count": 5,
     "metadata": {},
     "output_type": "execute_result"
    }
   ],
   "source": [
    "a + b # 숫자 데이터의 덧셈 "
   ]
  },
  {
   "cell_type": "code",
   "execution_count": 6,
   "id": "8cc2b733",
   "metadata": {},
   "outputs": [
    {
     "data": {
      "text/plain": [
       "27"
      ]
     },
     "execution_count": 6,
     "metadata": {},
     "output_type": "execute_result"
    }
   ],
   "source": [
    "a - b # 숫자 데이터의 뺄셈 "
   ]
  },
  {
   "cell_type": "code",
   "execution_count": 7,
   "id": "b29bdc61",
   "metadata": {},
   "outputs": [
    {
     "data": {
      "text/plain": [
       "60"
      ]
     },
     "execution_count": 7,
     "metadata": {},
     "output_type": "execute_result"
    }
   ],
   "source": [
    "a * 2 # 숫자 데이터의 곱셈 (변수 x 숫자) "
   ]
  },
  {
   "cell_type": "code",
   "execution_count": 8,
   "id": "8ed3e407",
   "metadata": {},
   "outputs": [
    {
     "data": {
      "text/plain": [
       "10.0"
      ]
     },
     "execution_count": 8,
     "metadata": {},
     "output_type": "execute_result"
    }
   ],
   "source": [
    "a / b # 숫자 데이터의 나눗셈 "
   ]
  },
  {
   "cell_type": "code",
   "execution_count": 9,
   "id": "31676534",
   "metadata": {},
   "outputs": [
    {
     "data": {
      "text/plain": [
       "27000"
      ]
     },
     "execution_count": 9,
     "metadata": {},
     "output_type": "execute_result"
    }
   ],
   "source": [
    "a ** 3 # 숫자 데이터 제곱 (30의 세제곱)"
   ]
  },
  {
   "cell_type": "code",
   "execution_count": 10,
   "id": "49ab9471",
   "metadata": {},
   "outputs": [
    {
     "data": {
      "text/plain": [
       "15"
      ]
     },
     "execution_count": 10,
     "metadata": {},
     "output_type": "execute_result"
    }
   ],
   "source": [
    "a // 2 # 나눗셈을 한 몫 "
   ]
  },
  {
   "cell_type": "code",
   "execution_count": 11,
   "id": "87728df8",
   "metadata": {},
   "outputs": [
    {
     "data": {
      "text/plain": [
       "0"
      ]
     },
     "execution_count": 11,
     "metadata": {},
     "output_type": "execute_result"
    }
   ],
   "source": [
    "a % 3  # 나눗셈을 한 나머지 "
   ]
  },
  {
   "cell_type": "code",
   "execution_count": 12,
   "id": "d4df5407",
   "metadata": {},
   "outputs": [],
   "source": [
    "# 문자 데이터 (따옴표 또는 쌍따옴표)\n",
    "data1 = '파이썬'"
   ]
  },
  {
   "cell_type": "code",
   "execution_count": 13,
   "id": "0bdd4ee5",
   "metadata": {},
   "outputs": [
    {
     "data": {
      "text/plain": [
       "'파이썬'"
      ]
     },
     "execution_count": 13,
     "metadata": {},
     "output_type": "execute_result"
    }
   ],
   "source": [
    "data1"
   ]
  },
  {
   "cell_type": "code",
   "execution_count": 14,
   "id": "8f981cfe",
   "metadata": {},
   "outputs": [],
   "source": [
    "data2 = 'Python'\n",
    "data3 = 'Data'"
   ]
  },
  {
   "cell_type": "code",
   "execution_count": 15,
   "id": "821e0558",
   "metadata": {
    "scrolled": true
   },
   "outputs": [
    {
     "data": {
      "text/plain": [
       "'PythonData'"
      ]
     },
     "execution_count": 15,
     "metadata": {},
     "output_type": "execute_result"
    }
   ],
   "source": [
    "data2 + data3 # 문자데이터의 덧셈 (글자를 이어붙여 써준다)"
   ]
  },
  {
   "cell_type": "code",
   "execution_count": 16,
   "id": "0fb40761",
   "metadata": {},
   "outputs": [],
   "source": [
    "data4 = '345'"
   ]
  },
  {
   "cell_type": "code",
   "execution_count": 17,
   "id": "c73f7e10",
   "metadata": {},
   "outputs": [
    {
     "data": {
      "text/plain": [
       "str"
      ]
     },
     "execution_count": 17,
     "metadata": {},
     "output_type": "execute_result"
    }
   ],
   "source": [
    "type(data4) "
   ]
  },
  {
   "cell_type": "markdown",
   "id": "87e55233",
   "metadata": {},
   "source": [
    "- 데이터 타입 : 연속형(숫자) / 범주형(문자)\n",
    "- 데이터 타입에 따라 분석의 방법이 달라짐. \n",
    "- 연속형(숫자) :int (정수) / float (실수)\n",
    "- 범주형(문자) :str (문자열) "
   ]
  },
  {
   "cell_type": "code",
   "execution_count": 18,
   "id": "c2b8622c",
   "metadata": {},
   "outputs": [
    {
     "data": {
      "text/plain": [
       "'PythonPython'"
      ]
     },
     "execution_count": 18,
     "metadata": {},
     "output_type": "execute_result"
    }
   ],
   "source": [
    "data2 * 2 # 문자 데이터를 중복해서 출력 "
   ]
  },
  {
   "cell_type": "markdown",
   "id": "bd837987",
   "metadata": {},
   "source": [
    "# 데이터 자료형 \n",
    "\n",
    "- 프로그래밍 언어에서 두개 이상의 여러가지 데이터를 들고 다닐때 사용하는 공간 \n",
    "- 4가지 자료형 : List / Tuple / Set / Dictionary "
   ]
  },
  {
   "cell_type": "code",
   "execution_count": 19,
   "id": "cc9186de",
   "metadata": {},
   "outputs": [
    {
     "data": {
      "text/plain": [
       "[10, 20, 30, 50, 5]"
      ]
     },
     "execution_count": 19,
     "metadata": {},
     "output_type": "execute_result"
    }
   ],
   "source": [
    "# List (리스트) : 가장 많이 사용되는 자료형 [ ]\n",
    "# 각각의 데이터에 순서가 존재 / 추가,삭제,변경 가능 / 똑같은 데이터를 중복해서 작성 \n",
    "data4 = [10,20,30,50,5]\n",
    "data4"
   ]
  },
  {
   "cell_type": "code",
   "execution_count": 20,
   "id": "8ebea05f",
   "metadata": {},
   "outputs": [
    {
     "data": {
      "text/plain": [
       "list"
      ]
     },
     "execution_count": 20,
     "metadata": {},
     "output_type": "execute_result"
    }
   ],
   "source": [
    "type(data4)"
   ]
  },
  {
   "cell_type": "code",
   "execution_count": 21,
   "id": "468e849d",
   "metadata": {},
   "outputs": [],
   "source": [
    "# 리스트는 특정 위치의 데이터를 찾을 수 있다. (indexing, 색인)\n",
    "data5 = ['국어','수학','사회','과학']"
   ]
  },
  {
   "cell_type": "code",
   "execution_count": 22,
   "id": "65024c0d",
   "metadata": {},
   "outputs": [
    {
     "data": {
      "text/plain": [
       "['국어', '수학', '사회', '과학']"
      ]
     },
     "execution_count": 22,
     "metadata": {},
     "output_type": "execute_result"
    }
   ],
   "source": [
    "data5"
   ]
  },
  {
   "cell_type": "code",
   "execution_count": 23,
   "id": "f6f46f3a",
   "metadata": {},
   "outputs": [
    {
     "data": {
      "text/plain": [
       "'국어'"
      ]
     },
     "execution_count": 23,
     "metadata": {},
     "output_type": "execute_result"
    }
   ],
   "source": [
    "data5[0] # 0번째 위치에 있는 '국어'라는 데이터를 불러오기 "
   ]
  },
  {
   "cell_type": "code",
   "execution_count": 24,
   "id": "630d4854",
   "metadata": {},
   "outputs": [
    {
     "data": {
      "text/plain": [
       "'수학'"
      ]
     },
     "execution_count": 24,
     "metadata": {},
     "output_type": "execute_result"
    }
   ],
   "source": [
    "data5[1] # 1번째 위치에 있는 '수학'데이터 추출 "
   ]
  },
  {
   "cell_type": "code",
   "execution_count": 25,
   "id": "14bd2f75",
   "metadata": {},
   "outputs": [
    {
     "data": {
      "text/plain": [
       "['국어', '수학']"
      ]
     },
     "execution_count": 25,
     "metadata": {},
     "output_type": "execute_result"
    }
   ],
   "source": [
    "data5[0:2] # 0번째 부터 2번째 전까지(1번째) 데이터를 범위 추출"
   ]
  },
  {
   "cell_type": "code",
   "execution_count": 27,
   "id": "a72dadc9",
   "metadata": {},
   "outputs": [],
   "source": [
    "data6 = data5[1:3]"
   ]
  },
  {
   "cell_type": "code",
   "execution_count": 28,
   "id": "61444726",
   "metadata": {},
   "outputs": [
    {
     "data": {
      "text/plain": [
       "['수학', '사회']"
      ]
     },
     "execution_count": 28,
     "metadata": {},
     "output_type": "execute_result"
    }
   ],
   "source": [
    "data6"
   ]
  },
  {
   "cell_type": "code",
   "execution_count": 29,
   "id": "34895d01",
   "metadata": {},
   "outputs": [
    {
     "data": {
      "text/plain": [
       "['국어', '수학', '사회', '과학']"
      ]
     },
     "execution_count": 29,
     "metadata": {},
     "output_type": "execute_result"
    }
   ],
   "source": [
    "# 새로 데이터를 추가 / 기존 데이터를 삭제, 변경\n",
    "data5"
   ]
  },
  {
   "cell_type": "code",
   "execution_count": 30,
   "id": "653dd496",
   "metadata": {},
   "outputs": [],
   "source": [
    "data5.append('영어') # 새로 데이터를 추가하는 함수 (append)"
   ]
  },
  {
   "cell_type": "code",
   "execution_count": 31,
   "id": "75e5f67d",
   "metadata": {},
   "outputs": [
    {
     "data": {
      "text/plain": [
       "['국어', '수학', '사회', '과학', '영어']"
      ]
     },
     "execution_count": 31,
     "metadata": {},
     "output_type": "execute_result"
    }
   ],
   "source": [
    "data5"
   ]
  },
  {
   "cell_type": "code",
   "execution_count": 32,
   "id": "99ff2c49",
   "metadata": {},
   "outputs": [],
   "source": [
    "data5.remove('수학') # 기존에 있는 데이터를 삭제 하는 함수 (remove)"
   ]
  },
  {
   "cell_type": "code",
   "execution_count": 33,
   "id": "4e14e8e7",
   "metadata": {},
   "outputs": [
    {
     "data": {
      "text/plain": [
       "['국어', '사회', '과학', '영어']"
      ]
     },
     "execution_count": 33,
     "metadata": {},
     "output_type": "execute_result"
    }
   ],
   "source": [
    "data5"
   ]
  },
  {
   "cell_type": "code",
   "execution_count": 34,
   "id": "5e1a4fc4",
   "metadata": {},
   "outputs": [],
   "source": [
    "data5.insert(0,'한국사') # 특정 위치에 특정 데이터를 입력하는 함수 (insert)"
   ]
  },
  {
   "cell_type": "code",
   "execution_count": 35,
   "id": "27068ec0",
   "metadata": {},
   "outputs": [
    {
     "data": {
      "text/plain": [
       "['한국사', '국어', '사회', '과학', '영어']"
      ]
     },
     "execution_count": 35,
     "metadata": {},
     "output_type": "execute_result"
    }
   ],
   "source": [
    "data5"
   ]
  },
  {
   "cell_type": "code",
   "execution_count": 37,
   "id": "215ea47f",
   "metadata": {},
   "outputs": [],
   "source": [
    "data5[2] = '물리' # 특정 위치에 있는 데이터를 다른 데이터로 변경 "
   ]
  },
  {
   "cell_type": "code",
   "execution_count": 38,
   "id": "1acb99e1",
   "metadata": {},
   "outputs": [
    {
     "data": {
      "text/plain": [
       "['한국사', '국어', '물리', '과학', '영어']"
      ]
     },
     "execution_count": 38,
     "metadata": {},
     "output_type": "execute_result"
    }
   ],
   "source": [
    "data5"
   ]
  },
  {
   "cell_type": "code",
   "execution_count": 39,
   "id": "8b1d28b8",
   "metadata": {},
   "outputs": [],
   "source": [
    "data5[2] = \"\""
   ]
  },
  {
   "cell_type": "code",
   "execution_count": 40,
   "id": "903fdeed",
   "metadata": {},
   "outputs": [
    {
     "data": {
      "text/plain": [
       "['한국사', '국어', '', '과학', '영어']"
      ]
     },
     "execution_count": 40,
     "metadata": {},
     "output_type": "execute_result"
    }
   ],
   "source": [
    "data5"
   ]
  },
  {
   "cell_type": "code",
   "execution_count": 41,
   "id": "d2371142",
   "metadata": {},
   "outputs": [
    {
     "data": {
      "text/plain": [
       "(100, 200, 300)"
      ]
     },
     "execution_count": 41,
     "metadata": {},
     "output_type": "execute_result"
    }
   ],
   "source": [
    "# Tuple (튜플) \n",
    "# 추가/삭제/ 변경이 불가능 \n",
    "data6 = (100,200,300)\n",
    "data6"
   ]
  },
  {
   "cell_type": "code",
   "execution_count": 42,
   "id": "02bb39a7",
   "metadata": {},
   "outputs": [
    {
     "data": {
      "text/plain": [
       "tuple"
      ]
     },
     "execution_count": 42,
     "metadata": {},
     "output_type": "execute_result"
    }
   ],
   "source": [
    "type(data6)"
   ]
  },
  {
   "cell_type": "code",
   "execution_count": 43,
   "id": "b1ff9fde",
   "metadata": {
    "collapsed": true
   },
   "outputs": [
    {
     "ename": "AttributeError",
     "evalue": "'tuple' object has no attribute 'append'",
     "output_type": "error",
     "traceback": [
      "\u001b[1;31m---------------------------------------------------------------------------\u001b[0m",
      "\u001b[1;31mAttributeError\u001b[0m                            Traceback (most recent call last)",
      "\u001b[1;32m<ipython-input-43-de84e8abc952>\u001b[0m in \u001b[0;36m<module>\u001b[1;34m\u001b[0m\n\u001b[1;32m----> 1\u001b[1;33m \u001b[0mdata6\u001b[0m\u001b[1;33m.\u001b[0m\u001b[0mappend\u001b[0m\u001b[1;33m(\u001b[0m\u001b[1;36m700\u001b[0m\u001b[1;33m)\u001b[0m\u001b[1;33m\u001b[0m\u001b[1;33m\u001b[0m\u001b[0m\n\u001b[0m",
      "\u001b[1;31mAttributeError\u001b[0m: 'tuple' object has no attribute 'append'"
     ]
    }
   ],
   "source": [
    "data6.append(700)"
   ]
  },
  {
   "cell_type": "code",
   "execution_count": 44,
   "id": "ad0fe168",
   "metadata": {},
   "outputs": [
    {
     "data": {
      "text/plain": [
       "100"
      ]
     },
     "execution_count": 44,
     "metadata": {},
     "output_type": "execute_result"
    }
   ],
   "source": [
    "data6[0]"
   ]
  },
  {
   "cell_type": "code",
   "execution_count": 46,
   "id": "f194e9c3",
   "metadata": {},
   "outputs": [
    {
     "data": {
      "text/plain": [
       "{3, 10, 50, 100}"
      ]
     },
     "execution_count": 46,
     "metadata": {},
     "output_type": "execute_result"
    }
   ],
   "source": [
    "# Set (셋, 집합)\n",
    "# 수학에서 집합 \n",
    "# 순서가 없고 / 중복이 허용되지 않음 \n",
    "data7 = {10,50,3,100,100,100}\n",
    "data7"
   ]
  },
  {
   "cell_type": "code",
   "execution_count": 47,
   "id": "5cdbaac2",
   "metadata": {
    "collapsed": true
   },
   "outputs": [
    {
     "ename": "TypeError",
     "evalue": "'set' object is not subscriptable",
     "output_type": "error",
     "traceback": [
      "\u001b[1;31m---------------------------------------------------------------------------\u001b[0m",
      "\u001b[1;31mTypeError\u001b[0m                                 Traceback (most recent call last)",
      "\u001b[1;32m<ipython-input-47-5c7a43c99a5e>\u001b[0m in \u001b[0;36m<module>\u001b[1;34m\u001b[0m\n\u001b[1;32m----> 1\u001b[1;33m \u001b[0mdata7\u001b[0m\u001b[1;33m[\u001b[0m\u001b[1;36m0\u001b[0m\u001b[1;33m]\u001b[0m\u001b[1;33m\u001b[0m\u001b[1;33m\u001b[0m\u001b[0m\n\u001b[0m",
      "\u001b[1;31mTypeError\u001b[0m: 'set' object is not subscriptable"
     ]
    }
   ],
   "source": [
    "data7[0] # 순서가 없는 Set 구조 "
   ]
  },
  {
   "cell_type": "code",
   "execution_count": 48,
   "id": "aea326e9",
   "metadata": {},
   "outputs": [],
   "source": [
    "data8 = {10,20,30,40,50}\n",
    "data9 = {40,50,60,70,80}"
   ]
  },
  {
   "cell_type": "code",
   "execution_count": 49,
   "id": "51df053e",
   "metadata": {},
   "outputs": [
    {
     "data": {
      "text/plain": [
       "{40, 50}"
      ]
     },
     "execution_count": 49,
     "metadata": {},
     "output_type": "execute_result"
    }
   ],
   "source": [
    "data8 & data9  # 교집합 연산 "
   ]
  },
  {
   "cell_type": "code",
   "execution_count": 50,
   "id": "e873c418",
   "metadata": {},
   "outputs": [
    {
     "data": {
      "text/plain": [
       "{10, 20, 30, 40, 50, 60, 70, 80}"
      ]
     },
     "execution_count": 50,
     "metadata": {},
     "output_type": "execute_result"
    }
   ],
   "source": [
    "data8 | data9 # 합집합 연산"
   ]
  },
  {
   "cell_type": "code",
   "execution_count": 51,
   "id": "a4da790c",
   "metadata": {},
   "outputs": [
    {
     "data": {
      "text/plain": [
       "{60, 70, 80}"
      ]
     },
     "execution_count": 51,
     "metadata": {},
     "output_type": "execute_result"
    }
   ],
   "source": [
    "data9 - data8 # 차집합 연산"
   ]
  },
  {
   "cell_type": "code",
   "execution_count": 52,
   "id": "46481e66",
   "metadata": {},
   "outputs": [
    {
     "data": {
      "text/plain": [
       "{10, 20, 30, 60, 70, 80}"
      ]
     },
     "execution_count": 52,
     "metadata": {},
     "output_type": "execute_result"
    }
   ],
   "source": [
    "data8 ^ data9 # 대상차집합 (교집합을 제외한 나머지)"
   ]
  },
  {
   "cell_type": "code",
   "execution_count": 53,
   "id": "48a72435",
   "metadata": {},
   "outputs": [
    {
     "data": {
      "text/plain": [
       "{'이름': '홍길동', '나이': 29, '거주지': '서울'}"
      ]
     },
     "execution_count": 53,
     "metadata": {},
     "output_type": "execute_result"
    }
   ],
   "source": [
    "# Dictionary (딕셔너리, 사전)\n",
    "# Key - Value Pair (키-값 쌍)\n",
    "data10 = {'이름':'홍길동' , '나이':29 , '거주지':'서울'}\n",
    "data10"
   ]
  },
  {
   "cell_type": "code",
   "execution_count": 54,
   "id": "87a59df1",
   "metadata": {},
   "outputs": [
    {
     "data": {
      "text/plain": [
       "dict"
      ]
     },
     "execution_count": 54,
     "metadata": {},
     "output_type": "execute_result"
    }
   ],
   "source": [
    "type(data10)"
   ]
  },
  {
   "cell_type": "code",
   "execution_count": 55,
   "id": "4b32059d",
   "metadata": {},
   "outputs": [
    {
     "data": {
      "text/plain": [
       "'홍길동'"
      ]
     },
     "execution_count": 55,
     "metadata": {},
     "output_type": "execute_result"
    }
   ],
   "source": [
    "data10['이름']"
   ]
  },
  {
   "cell_type": "code",
   "execution_count": 56,
   "id": "d3d7b661",
   "metadata": {},
   "outputs": [
    {
     "data": {
      "text/plain": [
       "'서울'"
      ]
     },
     "execution_count": 56,
     "metadata": {},
     "output_type": "execute_result"
    }
   ],
   "source": [
    "data10['거주지']"
   ]
  },
  {
   "cell_type": "markdown",
   "id": "db692a7a",
   "metadata": {},
   "source": [
    "# 구문 (Statement) \n",
    "\n",
    "- 조건문 (if) : 특정 조건에 따라 코드를 수행 \n",
    "- 반복문 (for/while) : 특정 범위에 따라 반복해서 코드를 수행 "
   ]
  },
  {
   "cell_type": "code",
   "execution_count": 58,
   "id": "427d8f54",
   "metadata": {},
   "outputs": [
    {
     "name": "stdout",
     "output_type": "stream",
     "text": [
      "data11은 20보다 크다\n"
     ]
    }
   ],
   "source": [
    "data11 = 40 \n",
    "\n",
    "if data11 > 20:  # 비교구문 / data11이 20보다 크다면, 아래 종속문장을 수행 \n",
    "    print('data11은 20보다 크다')\n",
    "else:            # 위의 조건이 맞지 않는다면, 아래 종속 문장을 수행  \n",
    "    print('data11은 20보다 작다')\n",
    "\n",
    "# 들여쓰기 : 공백(space bar, tab)을 이용해서, 문장의 종속관계를 표현하는 방법 "
   ]
  },
  {
   "cell_type": "code",
   "execution_count": 61,
   "id": "7d0aa7d1",
   "metadata": {},
   "outputs": [],
   "source": [
    "# 비교 구문\n",
    "# True / False -> 논리형 (bool)\n",
    "data12 = 50 "
   ]
  },
  {
   "cell_type": "code",
   "execution_count": 62,
   "id": "9bf65fbf",
   "metadata": {},
   "outputs": [
    {
     "data": {
      "text/plain": [
       "True"
      ]
     },
     "execution_count": 62,
     "metadata": {},
     "output_type": "execute_result"
    }
   ],
   "source": [
    "data12 >= 30 # 크거나 같은지 확인 "
   ]
  },
  {
   "cell_type": "code",
   "execution_count": 63,
   "id": "db6d123a",
   "metadata": {},
   "outputs": [
    {
     "data": {
      "text/plain": [
       "False"
      ]
     },
     "execution_count": 63,
     "metadata": {},
     "output_type": "execute_result"
    }
   ],
   "source": [
    "data12 <= 5  #  작거나 같은지 확인 "
   ]
  },
  {
   "cell_type": "code",
   "execution_count": 64,
   "id": "a4ad7778",
   "metadata": {},
   "outputs": [
    {
     "data": {
      "text/plain": [
       "True"
      ]
     },
     "execution_count": 64,
     "metadata": {},
     "output_type": "execute_result"
    }
   ],
   "source": [
    "data12 == 50 # 두 값이 서로 같은지 확인"
   ]
  },
  {
   "cell_type": "code",
   "execution_count": 66,
   "id": "26a34195",
   "metadata": {},
   "outputs": [
    {
     "data": {
      "text/plain": [
       "False"
      ]
     },
     "execution_count": 66,
     "metadata": {},
     "output_type": "execute_result"
    }
   ],
   "source": [
    "data12 != 50 # 두 값이 서로 다른지 확인 (not equal)"
   ]
  },
  {
   "cell_type": "code",
   "execution_count": 68,
   "id": "179102ce",
   "metadata": {
    "collapsed": true
   },
   "outputs": [
    {
     "name": "stdout",
     "output_type": "stream",
     "text": [
      "B\n"
     ]
    }
   ],
   "source": [
    "# 여러가지 조건을 걸어 프로그램을 수행 (else if => elif)\n",
    "score_data = 89\n",
    "\n",
    "if score_data >= 90:\n",
    "    print('A')\n",
    "elif score_data >=80:\n",
    "    print('B')\n",
    "elif score_data >= 70:\n",
    "    print('C')\n",
    "elif score_data >= 60:\n",
    "    print('D')\n",
    "else:\n",
    "    print('F')"
   ]
  },
  {
   "cell_type": "code",
   "execution_count": 69,
   "id": "4b80ba20",
   "metadata": {
    "collapsed": true
   },
   "outputs": [
    {
     "name": "stdout",
     "output_type": "stream",
     "text": [
      "1\n",
      "2\n",
      "3\n",
      "4\n",
      "5\n",
      "6\n",
      "7\n",
      "8\n",
      "9\n"
     ]
    }
   ],
   "source": [
    "# For 반복문 : 특정 설정된 범위 만큼 프로그램이 수행 \n",
    "# range(n, m) : 특정 범위 내 정수를 하나씩 출력 하는 함수 \n",
    "#               n번 부터 m번 이전 까지 \n",
    "for i in range(1,10): # 1부터 9까지 데이터를 가져와서 i 값에 선언 \n",
    "    print(i)"
   ]
  },
  {
   "cell_type": "code",
   "execution_count": 73,
   "id": "aee9bcc5",
   "metadata": {
    "collapsed": true
   },
   "outputs": [
    {
     "name": "stdout",
     "output_type": "stream",
     "text": [
      "10 100 500\n",
      "50 100 500\n",
      "100 100 500\n"
     ]
    }
   ],
   "source": [
    "for i in [10,50,100]: # 리스트 내 값을 순서대로 i에 선언하면서 \n",
    "    print(i,100, 500)          # 아래 종속된문장이 반복되어 수행 "
   ]
  },
  {
   "cell_type": "code",
   "execution_count": 71,
   "id": "7e78161b",
   "metadata": {
    "collapsed": true
   },
   "outputs": [
    {
     "name": "stdout",
     "output_type": "stream",
     "text": [
      "10\n",
      "50\n",
      "100\n"
     ]
    }
   ],
   "source": [
    "for i in [10,50,100]: print(i)"
   ]
  },
  {
   "cell_type": "code",
   "execution_count": 74,
   "id": "dee5e705",
   "metadata": {
    "collapsed": true
   },
   "outputs": [
    {
     "name": "stdout",
     "output_type": "stream",
     "text": [
      "1\n",
      "3\n",
      "6\n",
      "10\n",
      "15\n",
      "21\n",
      "28\n",
      "36\n",
      "45\n",
      "55\n"
     ]
    }
   ],
   "source": [
    "sum_data = 0 \n",
    "for i in range(1,11):\n",
    "    sum_data = sum_data + i \n",
    "    print(sum_data)"
   ]
  },
  {
   "cell_type": "code",
   "execution_count": 75,
   "id": "e73aa94e",
   "metadata": {
    "collapsed": true
   },
   "outputs": [
    {
     "name": "stdout",
     "output_type": "stream",
     "text": [
      "100\n",
      "300\n",
      "600\n"
     ]
    }
   ],
   "source": [
    "sum_data = 0 \n",
    "for i in [100,200,300]:\n",
    "    sum_data = sum_data + i \n",
    "    print(sum_data)"
   ]
  },
  {
   "cell_type": "code",
   "execution_count": 76,
   "id": "6f970f0b",
   "metadata": {},
   "outputs": [
    {
     "data": {
      "text/plain": [
       "600"
      ]
     },
     "execution_count": 76,
     "metadata": {},
     "output_type": "execute_result"
    }
   ],
   "source": [
    "sum([100,200,300]) # 함수 "
   ]
  },
  {
   "cell_type": "code",
   "execution_count": null,
   "id": "e93bd2c4",
   "metadata": {},
   "outputs": [],
   "source": [
    "# function( )\n",
    "# data[ ] / data = [ ]"
   ]
  },
  {
   "cell_type": "markdown",
   "id": "bb21340c",
   "metadata": {},
   "source": [
    "# 라이브러리 \n",
    "\n",
    "- 특정 목적을 수행하는 함수들의 집합 "
   ]
  },
  {
   "cell_type": "code",
   "execution_count": 78,
   "id": "14018f73",
   "metadata": {},
   "outputs": [],
   "source": [
    "import pandas as pd   \n",
    "# 함수 사용하기 위해 pandas 라이브러리 불러온 뒤, pd 약어로 사용  \n",
    "# Pandas (Panel + Dataset) : \n",
    "# 정형데이터(excel, csv, sql ...)를 처리 하고 분석할 때 사용 "
   ]
  },
  {
   "cell_type": "code",
   "execution_count": 80,
   "id": "8f4837d8",
   "metadata": {},
   "outputs": [],
   "source": [
    "df1 = pd.read_csv('Data02.csv')"
   ]
  },
  {
   "cell_type": "code",
   "execution_count": 82,
   "id": "824c5ee4",
   "metadata": {},
   "outputs": [
    {
     "data": {
      "text/html": [
       "<div>\n",
       "<style scoped>\n",
       "    .dataframe tbody tr th:only-of-type {\n",
       "        vertical-align: middle;\n",
       "    }\n",
       "\n",
       "    .dataframe tbody tr th {\n",
       "        vertical-align: top;\n",
       "    }\n",
       "\n",
       "    .dataframe thead th {\n",
       "        text-align: right;\n",
       "    }\n",
       "</style>\n",
       "<table border=\"1\" class=\"dataframe\">\n",
       "  <thead>\n",
       "    <tr style=\"text-align: right;\">\n",
       "      <th></th>\n",
       "      <th>상품구매금액</th>\n",
       "    </tr>\n",
       "    <tr>\n",
       "      <th>주문경로</th>\n",
       "      <th></th>\n",
       "    </tr>\n",
       "  </thead>\n",
       "  <tbody>\n",
       "    <tr>\n",
       "      <th>PC쇼핑몰</th>\n",
       "      <td>68365.458844</td>\n",
       "    </tr>\n",
       "    <tr>\n",
       "      <th>네이버 페이</th>\n",
       "      <td>82433.872374</td>\n",
       "    </tr>\n",
       "    <tr>\n",
       "      <th>모바일웹</th>\n",
       "      <td>68979.561815</td>\n",
       "    </tr>\n",
       "  </tbody>\n",
       "</table>\n",
       "</div>"
      ],
      "text/plain": [
       "              상품구매금액\n",
       "주문경로                \n",
       "PC쇼핑몰   68365.458844\n",
       "네이버 페이  82433.872374\n",
       "모바일웹    68979.561815"
      ]
     },
     "execution_count": 82,
     "metadata": {},
     "output_type": "execute_result"
    }
   ],
   "source": [
    "df1.pivot_table(index='주문경로', values='상품구매금액')"
   ]
  },
  {
   "cell_type": "code",
   "execution_count": null,
   "id": "8edb7843",
   "metadata": {},
   "outputs": [],
   "source": []
  }
 ],
 "metadata": {
  "kernelspec": {
   "display_name": "Python 3",
   "language": "python",
   "name": "python3"
  },
  "language_info": {
   "codemirror_mode": {
    "name": "ipython",
    "version": 3
   },
   "file_extension": ".py",
   "mimetype": "text/x-python",
   "name": "python",
   "nbconvert_exporter": "python",
   "pygments_lexer": "ipython3",
   "version": "3.8.8"
  }
 },
 "nbformat": 4,
 "nbformat_minor": 5
}
